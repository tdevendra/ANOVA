{
 "cells": [
  {
   "cell_type": "code",
   "execution_count": 1,
   "metadata": {},
   "outputs": [],
   "source": [
    "import numpy as np\n",
    "import pandas as pd\n",
    "from matplotlib import pyplot as plt\n",
    "import seaborn as sns"
   ]
  },
  {
   "cell_type": "markdown",
   "metadata": {},
   "source": [
    "Problem Statement: \n",
    "\n",
    "For an orange juice company,\n",
    "the marketing team claimed that their new marketing strategy resulted in an increase of sales. \n",
    "\n",
    "Determine if this is actually true.\n",
    "\n",
    "Data:\n",
    "\n",
    "January:\n",
    "\n",
    "Average Daily Sales = \\$10,000, sample size = 31, variance = 10,000,000\n",
    "\n",
    "February:\n",
    "\n",
    "Average Daily Sales = \\$12,000, sample size = 28, variance = 20,000,000\n",
    "\n",
    "How do we know that the increase in daily orange juice sales was not due to random variation in data?"
   ]
  },
  {
   "cell_type": "markdown",
   "metadata": {},
   "source": [
    "# Null and Alternative Hypothesis"
   ]
  },
  {
   "cell_type": "markdown",
   "metadata": {},
   "source": [
    "The amount of sales per day is not consistent throughout the month. \n",
    "\n",
    "The January data has a variance of 10,000,000 and a standard deviation of ~3162. \n",
    "\n",
    "\n",
    "\n",
    "On bad days, we would sell \\$8,000, of orange juice. On good days, we would sell $14,000 of orange juice. \n",
    "\n",
    "We have to prove that the increase in average daily sales in February did not occur purely by chance."
   ]
  },
  {
   "cell_type": "markdown",
   "metadata": {},
   "source": [
    "H0: Null Hypothesis: No change in sales\n",
    "    \n",
    "H1: Alternate Hypothesis: Jan < Feb : Sales Increased\n",
    "\n",
    "Possible Alternate Hypothesis:\n",
    "    \n",
    "1. Jan < Feb : Sales Increased\n",
    "\n",
    "2. Jan > Feb : Sales Decreased\n",
    "\n",
    "3. Jan Sales not equal to Feb Sales : Sales Changed \n",
    "\n",
    "\n",
    "In our case, the marketing department claimed that the sales has increased. So we would use the first alternative hypothesis."
   ]
  },
  {
   "cell_type": "markdown",
   "metadata": {},
   "source": [
    "NO ERROR: Null Hypothesis is Correct, Retain H0\n",
    "    \n",
    "Type II error, false negative: Alt Hypothesis(Sales Increased) is Correct, but Retain H0\n",
    "    \n",
    "Type I error, false positive: Null Hypothesis is Correct, but Retain H1\n",
    "\n",
    "NO ERROR: Alt Hypothesis is Correct, Retain H1\n",
    "\n",
    "\n",
    "Hypothesis testing uses the logic, The null hypothesis is True unless proved otherwise using data.\n",
    "\n",
    "We use data as evidence to determine if the claims made against the null hypothesis is true.\n",
    "\n",
    "--\n",
    "\n",
    "\n",
    "p-value or Significance Level:\n",
    "\n",
    "In order to come to a decision, we need to know if the February data is statistically significant.\n",
    "\n",
    "We would have to calculate the probability of finding the observed, or more extreme data assuming that the null hypothesis, $H_0$ is true. This probability is known as the p-value.\n",
    "\n",
    "If this probability is high, we would retain the null hypothesis. If this probability is low, we would reject the null hypothesis. \n",
    "\n",
    "This probability threshold known as the significance level, or $\\alpha$. Many statisticians typically use $\\alpha$ = 0.05."
   ]
  },
  {
   "cell_type": "code",
   "execution_count": null,
   "metadata": {},
   "outputs": [],
   "source": []
  },
  {
   "cell_type": "markdown",
   "metadata": {},
   "source": [
    "Lets perform t test for facebook posts dataset"
   ]
  },
  {
   "cell_type": "code",
   "execution_count": 2,
   "metadata": {},
   "outputs": [
    {
     "data": {
      "text/html": [
       "<div>\n",
       "<style scoped>\n",
       "    .dataframe tbody tr th:only-of-type {\n",
       "        vertical-align: middle;\n",
       "    }\n",
       "\n",
       "    .dataframe tbody tr th {\n",
       "        vertical-align: top;\n",
       "    }\n",
       "\n",
       "    .dataframe thead th {\n",
       "        text-align: right;\n",
       "    }\n",
       "</style>\n",
       "<table border=\"1\" class=\"dataframe\">\n",
       "  <thead>\n",
       "    <tr style=\"text-align: right;\">\n",
       "      <th></th>\n",
       "      <th>Page total likes</th>\n",
       "      <th>Type</th>\n",
       "      <th>Category</th>\n",
       "      <th>Post Month</th>\n",
       "      <th>Post Weekday</th>\n",
       "      <th>Post Hour</th>\n",
       "      <th>Paid</th>\n",
       "      <th>Lifetime Post Total Reach</th>\n",
       "      <th>Lifetime Post Total Impressions</th>\n",
       "      <th>Lifetime Engaged Users</th>\n",
       "      <th>Lifetime Post Consumers</th>\n",
       "      <th>Lifetime Post Consumptions</th>\n",
       "      <th>Lifetime Post Impressions by people who have liked your Page</th>\n",
       "      <th>Lifetime Post reach by people who like your Page</th>\n",
       "      <th>Lifetime People who have liked your Page and engaged with your post</th>\n",
       "      <th>comment</th>\n",
       "      <th>like</th>\n",
       "      <th>share</th>\n",
       "      <th>Total Interactions</th>\n",
       "    </tr>\n",
       "  </thead>\n",
       "  <tbody>\n",
       "    <tr>\n",
       "      <th>0</th>\n",
       "      <td>139441</td>\n",
       "      <td>Photo</td>\n",
       "      <td>2</td>\n",
       "      <td>12</td>\n",
       "      <td>4</td>\n",
       "      <td>3</td>\n",
       "      <td>0.0</td>\n",
       "      <td>2752</td>\n",
       "      <td>5091</td>\n",
       "      <td>178</td>\n",
       "      <td>109</td>\n",
       "      <td>159</td>\n",
       "      <td>3078</td>\n",
       "      <td>1640</td>\n",
       "      <td>119</td>\n",
       "      <td>4</td>\n",
       "      <td>79.0</td>\n",
       "      <td>17.0</td>\n",
       "      <td>100</td>\n",
       "    </tr>\n",
       "    <tr>\n",
       "      <th>1</th>\n",
       "      <td>139441</td>\n",
       "      <td>Status</td>\n",
       "      <td>2</td>\n",
       "      <td>12</td>\n",
       "      <td>3</td>\n",
       "      <td>10</td>\n",
       "      <td>0.0</td>\n",
       "      <td>10460</td>\n",
       "      <td>19057</td>\n",
       "      <td>1457</td>\n",
       "      <td>1361</td>\n",
       "      <td>1674</td>\n",
       "      <td>11710</td>\n",
       "      <td>6112</td>\n",
       "      <td>1108</td>\n",
       "      <td>5</td>\n",
       "      <td>130.0</td>\n",
       "      <td>29.0</td>\n",
       "      <td>164</td>\n",
       "    </tr>\n",
       "    <tr>\n",
       "      <th>2</th>\n",
       "      <td>139441</td>\n",
       "      <td>Photo</td>\n",
       "      <td>3</td>\n",
       "      <td>12</td>\n",
       "      <td>3</td>\n",
       "      <td>3</td>\n",
       "      <td>0.0</td>\n",
       "      <td>2413</td>\n",
       "      <td>4373</td>\n",
       "      <td>177</td>\n",
       "      <td>113</td>\n",
       "      <td>154</td>\n",
       "      <td>2812</td>\n",
       "      <td>1503</td>\n",
       "      <td>132</td>\n",
       "      <td>0</td>\n",
       "      <td>66.0</td>\n",
       "      <td>14.0</td>\n",
       "      <td>80</td>\n",
       "    </tr>\n",
       "    <tr>\n",
       "      <th>3</th>\n",
       "      <td>139441</td>\n",
       "      <td>Photo</td>\n",
       "      <td>2</td>\n",
       "      <td>12</td>\n",
       "      <td>2</td>\n",
       "      <td>10</td>\n",
       "      <td>1.0</td>\n",
       "      <td>50128</td>\n",
       "      <td>87991</td>\n",
       "      <td>2211</td>\n",
       "      <td>790</td>\n",
       "      <td>1119</td>\n",
       "      <td>61027</td>\n",
       "      <td>32048</td>\n",
       "      <td>1386</td>\n",
       "      <td>58</td>\n",
       "      <td>1572.0</td>\n",
       "      <td>147.0</td>\n",
       "      <td>1777</td>\n",
       "    </tr>\n",
       "    <tr>\n",
       "      <th>4</th>\n",
       "      <td>139441</td>\n",
       "      <td>Photo</td>\n",
       "      <td>2</td>\n",
       "      <td>12</td>\n",
       "      <td>2</td>\n",
       "      <td>3</td>\n",
       "      <td>0.0</td>\n",
       "      <td>7244</td>\n",
       "      <td>13594</td>\n",
       "      <td>671</td>\n",
       "      <td>410</td>\n",
       "      <td>580</td>\n",
       "      <td>6228</td>\n",
       "      <td>3200</td>\n",
       "      <td>396</td>\n",
       "      <td>19</td>\n",
       "      <td>325.0</td>\n",
       "      <td>49.0</td>\n",
       "      <td>393</td>\n",
       "    </tr>\n",
       "  </tbody>\n",
       "</table>\n",
       "</div>"
      ],
      "text/plain": [
       "   Page total likes    Type  Category  Post Month  Post Weekday  Post Hour  \\\n",
       "0            139441   Photo         2          12             4          3   \n",
       "1            139441  Status         2          12             3         10   \n",
       "2            139441   Photo         3          12             3          3   \n",
       "3            139441   Photo         2          12             2         10   \n",
       "4            139441   Photo         2          12             2          3   \n",
       "\n",
       "   Paid  Lifetime Post Total Reach  Lifetime Post Total Impressions  \\\n",
       "0   0.0                       2752                             5091   \n",
       "1   0.0                      10460                            19057   \n",
       "2   0.0                       2413                             4373   \n",
       "3   1.0                      50128                            87991   \n",
       "4   0.0                       7244                            13594   \n",
       "\n",
       "   Lifetime Engaged Users  Lifetime Post Consumers  \\\n",
       "0                     178                      109   \n",
       "1                    1457                     1361   \n",
       "2                     177                      113   \n",
       "3                    2211                      790   \n",
       "4                     671                      410   \n",
       "\n",
       "   Lifetime Post Consumptions  \\\n",
       "0                         159   \n",
       "1                        1674   \n",
       "2                         154   \n",
       "3                        1119   \n",
       "4                         580   \n",
       "\n",
       "   Lifetime Post Impressions by people who have liked your Page  \\\n",
       "0                                               3078              \n",
       "1                                              11710              \n",
       "2                                               2812              \n",
       "3                                              61027              \n",
       "4                                               6228              \n",
       "\n",
       "   Lifetime Post reach by people who like your Page  \\\n",
       "0                                              1640   \n",
       "1                                              6112   \n",
       "2                                              1503   \n",
       "3                                             32048   \n",
       "4                                              3200   \n",
       "\n",
       "   Lifetime People who have liked your Page and engaged with your post  \\\n",
       "0                                                119                     \n",
       "1                                               1108                     \n",
       "2                                                132                     \n",
       "3                                               1386                     \n",
       "4                                                396                     \n",
       "\n",
       "   comment    like  share  Total Interactions  \n",
       "0        4    79.0   17.0                 100  \n",
       "1        5   130.0   29.0                 164  \n",
       "2        0    66.0   14.0                  80  \n",
       "3       58  1572.0  147.0                1777  \n",
       "4       19   325.0   49.0                 393  "
      ]
     },
     "execution_count": 2,
     "metadata": {},
     "output_type": "execute_result"
    }
   ],
   "source": [
    "import pandas as pd\n",
    "data = pd.read_csv('facebook_dataset.csv', delimiter=';')\n",
    "data.head()"
   ]
  },
  {
   "cell_type": "code",
   "execution_count": 3,
   "metadata": {},
   "outputs": [
    {
     "data": {
      "image/png": "[encoded data removed]",
      "text/plain": [
       "<Figure size 720x216 with 1 Axes>"
      ]
     },
     "metadata": {},
     "output_type": "display_data"
    },
    {
     "name": "stdout",
     "output_type": "stream",
     "text": [
      "sample_size: 359\n",
      "sample_mean: 155.84679665738162\n",
      "sample_variance: 48403.23623970993\n"
     ]
    }
   ],
   "source": [
    "unpaid_likes = data[data['Paid']==0]['like']\n",
    "unpaid_likes = unpaid_likes.dropna()\n",
    "sns.set(font_scale=1.65)\n",
    "fig = plt.figure(figsize=(10,3))\n",
    "ax=unpaid_likes.hist(range=(0, 1500),bins=30)\n",
    "ax.set_xlim(0,1500)\n",
    "\n",
    "plt.xlabel('Likes (Paid)')\n",
    "plt.ylabel('Frequency')\n",
    "plt.show()\n",
    "\n",
    "print('sample_size: {}'.format(unpaid_likes.shape[0]))\n",
    "print('sample_mean: {}'.format(unpaid_likes.mean()))\n",
    "print('sample_variance: {}'.format(unpaid_likes.var()))"
   ]
  },
  {
   "cell_type": "code",
   "execution_count": 4,
   "metadata": {},
   "outputs": [
    {
     "data": {
      "image/png": "[encoded data removed]",
      "text/plain": [
       "<Figure size 720x216 with 1 Axes>"
      ]
     },
     "metadata": {},
     "output_type": "display_data"
    },
    {
     "name": "stdout",
     "output_type": "stream",
     "text": [
      "sample_size: 139\n",
      "sample_mean: 235.6474820143885\n",
      "sample_variance: 247175.07048274425\n"
     ]
    }
   ],
   "source": [
    "paid_likes = data[data['Paid']==1]['like']\n",
    "\n",
    "fig = plt.figure(figsize=(10,3))\n",
    "ax=paid_likes.hist(range=(0, 1500),bins=30)\n",
    "ax.set_xlim(0,1500)\n",
    "\n",
    "plt.xlabel('Likes (Unpaid)')\n",
    "plt.ylabel('Frequency')\n",
    "plt.show()\n",
    "\n",
    "print('sample_size: {}'.format(paid_likes.shape[0]))\n",
    "print('sample_mean: {}'.format(paid_likes.mean()))\n",
    "print('sample_variance: {}'.format(paid_likes.var()))"
   ]
  },
  {
   "cell_type": "code",
   "execution_count": 17,
   "metadata": {},
   "outputs": [
    {
     "data": {
      "image/png": "[encoded data removed]",
      "text/plain": [
       "<Figure size 432x216 with 1 Axes>"
      ]
     },
     "metadata": {},
     "output_type": "display_data"
    }
   ],
   "source": [
    "# Calculate confidence interval\n",
    "paid_err = 1.96 * (paid_likes.std() / np.sqrt(paid_likes.shape[0]))\n",
    "unpaid_err = 1.96 * (unpaid_likes.std() / np.sqrt(unpaid_likes.shape[0]))\n",
    "\n",
    "x = ['Paid Posts', 'Unpaid Posts']\n",
    "y = [paid_likes.mean(), unpaid_likes.mean()]\n",
    "fig = plt.figure(figsize=(6, 3))\n",
    "ax = sns.barplot(x=x, y=y, yerr=[paid_err, unpaid_err])\n",
    "ax.set_ylim(0, 400)\n",
    "plt.ylabel('Likes')\n",
    "plt.show()"
   ]
  },
  {
   "cell_type": "code",
   "execution_count": 22,
   "metadata": {},
   "outputs": [
    {
     "name": "stdout",
     "output_type": "stream",
     "text": [
      "t-value: 1.824490721115131\n"
     ]
    }
   ],
   "source": [
    "paid_var_ratio = paid_likes.var()/paid_likes.shape[0]\n",
    "unpaid_var_ratio = unpaid_likes.var()/unpaid_likes.shape[0]\n",
    "\n",
    "s_welch = np.sqrt(paid_var_ratio + unpaid_var_ratio)\n",
    "\n",
    "t = (paid_likes.mean() - unpaid_likes.mean())/s_welch\n",
    "\n",
    "print('t-value: {}'.format(t))"
   ]
  },
  {
   "cell_type": "code",
   "execution_count": 23,
   "metadata": {},
   "outputs": [
    {
     "name": "stdout",
     "output_type": "stream",
     "text": [
      "degrees of freedom: 159.3668015083367\n"
     ]
    }
   ],
   "source": [
    "df_num = (paid_var_ratio + unpaid_var_ratio)**2\n",
    "df_dem = paid_var_ratio**2/(paid_likes.shape[0]-1) + unpaid_var_ratio**2/(unpaid_likes.shape[0]-1)\n",
    "dof = df_num/df_dem\n",
    "print('degrees of freedom: {}'.format(dof))"
   ]
  },
  {
   "cell_type": "code",
   "execution_count": 24,
   "metadata": {},
   "outputs": [
    {
     "data": {
      "text/plain": [
       "Ttest_indResult(statistic=1.824490721115131, pvalue=0.06995072279510872)"
      ]
     },
     "execution_count": 24,
     "metadata": {},
     "output_type": "execute_result"
    }
   ],
   "source": [
    "from scipy import stats\n",
    "\n",
    "t_score = stats.ttest_ind_from_stats(paid_likes.mean(), paid_likes.std(), paid_likes.shape[0], \\\n",
    "                               unpaid_likes.mean(), unpaid_likes.std(), unpaid_likes.shape[0], \\\n",
    "                               equal_var=False)\n",
    "t_score"
   ]
  },
  {
   "cell_type": "markdown",
   "metadata": {},
   "source": [
    "From the Welch's t-test we ended up with a two-tailed p-value of ~0.07, or ~0.035 for a one-tail test. We will reject the null hypothesis, and accept that Facebook advertisements does have a positive effect on the number \"likes\" on a post."
   ]
  },
  {
   "cell_type": "code",
   "execution_count": null,
   "metadata": {},
   "outputs": [],
   "source": []
  },
  {
   "cell_type": "code",
   "execution_count": null,
   "metadata": {},
   "outputs": [],
   "source": []
  },
  {
   "cell_type": "code",
   "execution_count": null,
   "metadata": {},
   "outputs": [],
   "source": []
  }
 ],
 "metadata": {
  "kernelspec": {
   "display_name": "Python 3",
   "language": "python",
   "name": "python3"
  },
  "language_info": {
   "codemirror_mode": {
    "name": "ipython",
    "version": 3
   },
   "file_extension": ".py",
   "mimetype": "text/x-python",
   "name": "python",
   "nbconvert_exporter": "python",
   "pygments_lexer": "ipython3",
   "version": "3.5.0"
  }
 },
 "nbformat": 4,
 "nbformat_minor": 2
}
