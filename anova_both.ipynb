{
 "cells": [
  {
   "cell_type": "markdown",
   "metadata": {},
   "source": [
    "# ONE WAY ANOVA"
   ]
  },
  {
   "cell_type": "code",
   "execution_count": 10,
   "metadata": {},
   "outputs": [
    {
     "data": {
      "text/plain": [
       "<matplotlib.axes._subplots.AxesSubplot at 0x14e373c8>"
      ]
     },
     "execution_count": 10,
     "metadata": {},
     "output_type": "execute_result"
    },
    {
     "data": {
      "image/png": "[encoded data removed]",
      "text/plain": [
       "<Figure size 432x288 with 1 Axes>"
      ]
     },
     "metadata": {
      "needs_background": "light"
     },
     "output_type": "display_data"
    }
   ],
   "source": [
    "# load packages\n",
    "import pandas as pd\n",
    "# load data file\n",
    "d = pd.read_csv(\"onewayanova.txt\", sep=\"\\t\")\n",
    "# generate a boxplot to see the data distribution by treatments. Using boxplot, we can easily detect the differences \n",
    "# between different treatments\n",
    "d.boxplot(column=['A', 'B', 'C', 'D'], grid=False)"
   ]
  },
  {
   "cell_type": "markdown",
   "metadata": {},
   "source": [
    "Here, there are four treatments (A, B, C, and D), which are groups for ANOVA analysis. Treatments are independent variable and termed as factor. As there are four types of treatments, treatment factor has four levels.\n",
    "\n",
    "For this experimental design, there is only factor (treatments) or independent variable to evaluate, and therefore, one-way ANOVA is suitable for analysis."
   ]
  },
  {
   "cell_type": "code",
   "execution_count": 11,
   "metadata": {},
   "outputs": [
    {
     "name": "stdout",
     "output_type": "stream",
     "text": [
      "17.492810457516338 2.639241146210922e-05\n"
     ]
    },
    {
     "data": {
      "text/html": [
       "<div>\n",
       "<style scoped>\n",
       "    .dataframe tbody tr th:only-of-type {\n",
       "        vertical-align: middle;\n",
       "    }\n",
       "\n",
       "    .dataframe tbody tr th {\n",
       "        vertical-align: top;\n",
       "    }\n",
       "\n",
       "    .dataframe thead th {\n",
       "        text-align: right;\n",
       "    }\n",
       "</style>\n",
       "<table border=\"1\" class=\"dataframe\">\n",
       "  <thead>\n",
       "    <tr style=\"text-align: right;\">\n",
       "      <th></th>\n",
       "      <th>sum_sq</th>\n",
       "      <th>df</th>\n",
       "      <th>F</th>\n",
       "      <th>PR(&gt;F)</th>\n",
       "    </tr>\n",
       "  </thead>\n",
       "  <tbody>\n",
       "    <tr>\n",
       "      <th>C(treatments)</th>\n",
       "      <td>3010.95</td>\n",
       "      <td>3.0</td>\n",
       "      <td>17.49281</td>\n",
       "      <td>0.000026</td>\n",
       "    </tr>\n",
       "    <tr>\n",
       "      <th>Residual</th>\n",
       "      <td>918.00</td>\n",
       "      <td>16.0</td>\n",
       "      <td>NaN</td>\n",
       "      <td>NaN</td>\n",
       "    </tr>\n",
       "  </tbody>\n",
       "</table>\n",
       "</div>"
      ],
      "text/plain": [
       "                sum_sq    df         F    PR(>F)\n",
       "C(treatments)  3010.95   3.0  17.49281  0.000026\n",
       "Residual        918.00  16.0       NaN       NaN"
      ]
     },
     "execution_count": 11,
     "metadata": {},
     "output_type": "execute_result"
    }
   ],
   "source": [
    "# load packages\n",
    "import scipy.stats as stats\n",
    "# stats f_oneway functions takes the groups as input and returns F and P-value\n",
    "fvalue, pvalue = stats.f_oneway(d['A'], d['B'], d['C'], d['D'])\n",
    "print(fvalue, pvalue)\n",
    "# 17.492810457516338 2.639241146210922e-05\n",
    "\n",
    "# get ANOVA table as R like output\n",
    "import statsmodels.api as sm\n",
    "from statsmodels.formula.api import ols\n",
    "# reshape the d dataframe suitable for statsmodels package \n",
    "d_melt = pd.melt(d.reset_index(), id_vars=['index'], value_vars=['A', 'B', 'C', 'D'])\n",
    "# replace column names\n",
    "d_melt.columns = ['index', 'treatments', 'value']\n",
    "# Ordinary Least Squares (OLS) model\n",
    "model = ols('value ~ C(treatments)', data=d_melt).fit()\n",
    "anova_table = sm.stats.anova_lm(model, typ=2)\n",
    "anova_table"
   ]
  },
  {
   "cell_type": "markdown",
   "metadata": {},
   "source": [
    "Interpretation: The P-value obtained from ANOVA analysis is significant (P<0.05), \n",
    "and therefore, we conclude that there are significant differences among treatments.\n",
    "\n",
    "From ANOVA analysis, we know that treatment differences are statistically significant, \n",
    "but ANOVA does not tell which treatments are significantly different from each other.\n",
    "To know the pairs of significant different treatments, \n",
    "we will perform multiple pairwise comparison (Post-hoc comparison) analysis using Tukey HSD test."
   ]
  },
  {
   "cell_type": "markdown",
   "metadata": {},
   "source": [
    "# TWO WAY ANOVA"
   ]
  },
  {
   "cell_type": "markdown",
   "metadata": {},
   "source": [
    "From dataset, there are two factors (independent variables) viz. genotypes and yield in years. Genotypes and years has five and three levels respectively (see one-way ANOVA to know factors and levels).\n",
    "\n",
    "For this experimental design, there are two factors to evaluate, and therefore, two-way ANOVA is suitable for analysis. Here, using two-way ANOVA, we can simultaneously evaluate how type of genotype and years affects the yields of plants. If you apply one-way ANOVA here, you can able to evaluate only one factor at a time.\n",
    "\n",
    "From two-way ANOVA, we can tests three hypotheses \n",
    "\n",
    "1) effect of genotype on yield \n",
    "\n",
    "2) effect of time (years) on yield, and \n",
    "\n",
    "3) effect of genotype and time (years) interactions on yield"
   ]
  },
  {
   "cell_type": "code",
   "execution_count": 12,
   "metadata": {},
   "outputs": [
    {
     "data": {
      "text/plain": [
       "<matplotlib.axes._subplots.AxesSubplot at 0x14e37ef0>"
      ]
     },
     "execution_count": 12,
     "metadata": {},
     "output_type": "execute_result"
    },
    {
     "data": {
      "image/png": "[encoded data removed]",
      "text/plain": [
       "<Figure size 432x288 with 1 Axes>"
      ]
     },
     "metadata": {
      "needs_background": "light"
     },
     "output_type": "display_data"
    }
   ],
   "source": [
    "# load packages\n",
    "import pandas as pd\n",
    "import seaborn as sns\n",
    "# load data file\n",
    "d = pd.read_csv(\"twowayanova.txt\", sep=\"\\t\")\n",
    "# reshape the d dataframe suitable for statsmodels package \n",
    "# you do not need to reshape if your data is already in stacked format. Compare d and d_melt tables for detail \n",
    "# understanding \n",
    "d_melt = pd.melt(d, id_vars=['Genotype'], value_vars=['1_year', '2_year', '3_year'])\n",
    "# replace column names\n",
    "d_melt.columns = ['Genotype', 'years', 'value']\n",
    "# generate a boxplot to see the data distribution by genotypes and years. Using boxplot, we can easily detect the \n",
    "# differences between different groups\n",
    "sns.boxplot(x=\"Genotype\", y=\"value\", hue=\"years\", data=d_melt, palette=\"Set3\") "
   ]
  },
  {
   "cell_type": "code",
   "execution_count": 13,
   "metadata": {},
   "outputs": [
    {
     "data": {
      "text/html": [
       "<div>\n",
       "<style scoped>\n",
       "    .dataframe tbody tr th:only-of-type {\n",
       "        vertical-align: middle;\n",
       "    }\n",
       "\n",
       "    .dataframe tbody tr th {\n",
       "        vertical-align: top;\n",
       "    }\n",
       "\n",
       "    .dataframe thead th {\n",
       "        text-align: right;\n",
       "    }\n",
       "</style>\n",
       "<table border=\"1\" class=\"dataframe\">\n",
       "  <thead>\n",
       "    <tr style=\"text-align: right;\">\n",
       "      <th></th>\n",
       "      <th>sum_sq</th>\n",
       "      <th>df</th>\n",
       "      <th>F</th>\n",
       "      <th>PR(&gt;F)</th>\n",
       "    </tr>\n",
       "  </thead>\n",
       "  <tbody>\n",
       "    <tr>\n",
       "      <th>C(Genotype)</th>\n",
       "      <td>58.551733</td>\n",
       "      <td>5.0</td>\n",
       "      <td>32.748581</td>\n",
       "      <td>1.931655e-12</td>\n",
       "    </tr>\n",
       "    <tr>\n",
       "      <th>C(years)</th>\n",
       "      <td>278.925633</td>\n",
       "      <td>2.0</td>\n",
       "      <td>390.014868</td>\n",
       "      <td>4.006243e-25</td>\n",
       "    </tr>\n",
       "    <tr>\n",
       "      <th>C(Genotype):C(years)</th>\n",
       "      <td>17.122967</td>\n",
       "      <td>10.0</td>\n",
       "      <td>4.788525</td>\n",
       "      <td>2.230094e-04</td>\n",
       "    </tr>\n",
       "    <tr>\n",
       "      <th>Residual</th>\n",
       "      <td>12.873000</td>\n",
       "      <td>36.0</td>\n",
       "      <td>NaN</td>\n",
       "      <td>NaN</td>\n",
       "    </tr>\n",
       "  </tbody>\n",
       "</table>\n",
       "</div>"
      ],
      "text/plain": [
       "                          sum_sq    df           F        PR(>F)\n",
       "C(Genotype)            58.551733   5.0   32.748581  1.931655e-12\n",
       "C(years)              278.925633   2.0  390.014868  4.006243e-25\n",
       "C(Genotype):C(years)   17.122967  10.0    4.788525  2.230094e-04\n",
       "Residual               12.873000  36.0         NaN           NaN"
      ]
     },
     "execution_count": 13,
     "metadata": {},
     "output_type": "execute_result"
    }
   ],
   "source": [
    "# load packages\n",
    "import statsmodels.api as sm\n",
    "from statsmodels.formula.api import ols\n",
    "# Ordinary Least Squares (OLS) model\n",
    "# C(Genotype):C(years) represent interaction term\n",
    "model = ols('value ~ C(Genotype) + C(years) + C(Genotype):C(years)', data=d_melt).fit()\n",
    "anova_table = sm.stats.anova_lm(model, typ=2)\n",
    "anova_table"
   ]
  },
  {
   "cell_type": "markdown",
   "metadata": {},
   "source": [
    "Interpretation: The P-value obtained from ANOVA analysis for genotype, years, and interaction are statistically significant (P<0.05). We conclude that type of genotype significantly affects the yield outcome, time (years) significantly affects the yield outcome, and interaction of both genotype and time (years) significantly affects the yield outcome.\n",
    "\n",
    "Now, we know that genotype and time (years) differences are statistically significant, but ANOVA does not tell which genotype and time (years) are significantly different from each other. \n",
    "\n",
    "To know the pairs of significant different genotype and time (years), we can perform multiple pairwise comparison (Post-hoc comparison) analysis using Tukey HSD test."
   ]
  },
  {
   "cell_type": "code",
   "execution_count": null,
   "metadata": {},
   "outputs": [],
   "source": []
  },
  {
   "cell_type": "code",
   "execution_count": null,
   "metadata": {},
   "outputs": [],
   "source": []
  },
  {
   "cell_type": "code",
   "execution_count": null,
   "metadata": {},
   "outputs": [],
   "source": []
  },
  {
   "cell_type": "code",
   "execution_count": null,
   "metadata": {},
   "outputs": [],
   "source": []
  },
  {
   "cell_type": "code",
   "execution_count": null,
   "metadata": {},
   "outputs": [],
   "source": []
  },
  {
   "cell_type": "code",
   "execution_count": null,
   "metadata": {},
   "outputs": [],
   "source": []
  }
 ],
 "metadata": {
  "kernelspec": {
   "display_name": "Python 3",
   "language": "python",
   "name": "python3"
  },
  "language_info": {
   "codemirror_mode": {
    "name": "ipython",
    "version": 3
   },
   "file_extension": ".py",
   "mimetype": "text/x-python",
   "name": "python",
   "nbconvert_exporter": "python",
   "pygments_lexer": "ipython3",
   "version": "3.5.0"
  }
 },
 "nbformat": 4,
 "nbformat_minor": 2
}
